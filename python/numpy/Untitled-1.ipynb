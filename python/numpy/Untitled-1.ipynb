{
 "cells": [
  {
   "cell_type": "code",
   "execution_count": 89,
   "id": "38d0d4e8",
   "metadata": {},
   "outputs": [
    {
     "name": "stdout",
     "output_type": "stream",
     "text": [
      "[1 2 3 4 5]\n",
      "<class 'numpy.ndarray'>\n"
     ]
    }
   ],
   "source": [
    "#Introduction to Numpy\n",
    "import numpy as np\n",
    "import pickle\n",
    "\n",
    "array=np.array([1,2,3,4,5])\n",
    "print(array)\n",
    "print(type(array))"
   ]
  },
  {
   "cell_type": "code",
   "execution_count": 90,
   "id": "d2432afb",
   "metadata": {},
   "outputs": [
    {
     "name": "stdout",
     "output_type": "stream",
     "text": [
      "0\n",
      "()\n",
      "1\n",
      "(3,)\n",
      "2\n",
      "(3, 3)\n"
     ]
    }
   ],
   "source": [
    "array1=np.array('A')\n",
    "print(array1.ndim)\n",
    "print(array1.shape)\n",
    "#one dimensional array\n",
    "array2=np.array([1,2,3])\n",
    "print(array2.ndim)\n",
    "print(array2.shape)\n",
    "#two dimensionad array\n",
    "array3=np.array([[1,2,3],\n",
    "                 [2,3,4],\n",
    "                 [3,4,5]\n",
    "                 ])\n",
    "print(array3.ndim)\n",
    "print(array3.shape)\n"
   ]
  },
  {
   "cell_type": "code",
   "execution_count": 91,
   "id": "daa23591",
   "metadata": {},
   "outputs": [
    {
     "name": "stdout",
     "output_type": "stream",
     "text": [
      "Dimension:: 3\n",
      "Shape:: (1, 3, 3)\n",
      "Info memo::   C_CONTIGUOUS : True\n",
      "  F_CONTIGUOUS : False\n",
      "  OWNDATA : True\n",
      "  WRITEABLE : True\n",
      "  ALIGNED : True\n",
      "  WRITEBACKIFCOPY : False\n",
      "\n",
      "Stride (72, 24, 8)\n",
      "Data <memory at 0x000001F9979E6980>\n",
      "size:: 9\n",
      "Itemsize 8\n",
      "Byte:: 72\n",
      "Base:: None\n"
     ]
    }
   ],
   "source": [
    "#three dimensional array\n",
    "array4=np.array([[[1,2,3],[2,3,4],[3,4,5]]])\n",
    "print(\"Dimension::\",array4.ndim)\n",
    "print(\"Shape::\",array4.shape)\n",
    "print(\"Info memo::\",array4.flags)\n",
    "print(\"Stride\",array4.strides)\n",
    "print(\"Data\",array4.data)\n",
    "print(\"size::\",array4.size)\n",
    "print(\"Itemsize\",array4.itemsize)\n",
    "print(\"Byte::\",array4.nbytes)\n",
    "print(\"Base::\",array4.base)\n",
    "\n",
    "# x=array4.shape(2,3)\n",
    "# print(x)\n"
   ]
  },
  {
   "cell_type": "code",
   "execution_count": 92,
   "id": "47b5e64e",
   "metadata": {},
   "outputs": [
    {
     "name": "stdout",
     "output_type": "stream",
     "text": [
      "True\n",
      "False\n"
     ]
    }
   ],
   "source": [
    "# <!-- **all:check all elements in an array evaluate to true (non_zero)** -->\n",
    "a=np.array([1,2,3,4])\n",
    "print(np.all(a))\n",
    "b=np.array([1,0,1])\n",
    "print(np.all(b))"
   ]
  },
  {
   "cell_type": "code",
   "execution_count": 93,
   "id": "a66a5639",
   "metadata": {},
   "outputs": [
    {
     "name": "stdout",
     "output_type": "stream",
     "text": [
      "False\n",
      "True\n"
     ]
    }
   ],
   "source": [
    "#check any element in an array is true\n",
    "c=np.array([0,0,0])\n",
    "print(np.any(c))\n",
    "d=np.array([0,2,1,0])\n",
    "print(np.any(d))"
   ]
  },
  {
   "cell_type": "code",
   "execution_count": 94,
   "id": "2d0e704f",
   "metadata": {},
   "outputs": [
    {
     "name": "stdout",
     "output_type": "stream",
     "text": [
      "[2 2]\n",
      "3\n"
     ]
    }
   ],
   "source": [
    "arg1=np.array([[1,2,3],[2,3,4]])\n",
    "print(np.argmax(arg1,axis=1))\n",
    "arg2=np.array([1,2,3,4])\n",
    "print(np.argmax(arg2))"
   ]
  },
  {
   "cell_type": "code",
   "execution_count": 95,
   "id": "aae79f4d",
   "metadata": {},
   "outputs": [
    {
     "name": "stdout",
     "output_type": "stream",
     "text": [
      "0\n",
      "0\n",
      "[0 0 1 0]\n",
      "[0 0]\n"
     ]
    }
   ],
   "source": [
    "# argmin :return the index of the mininmum value\n",
    "min1=np.array([1,2,3,4])\n",
    "print(np.argmin(min1))\n",
    "min2=np.array([[1,2,10,4],[6,7,8,9]])\n",
    "print(np.argmin(min2,axis=None))\n",
    "print(np.argmin(min2,axis=0))\n",
    "print(np.argmin(min2,axis=1))"
   ]
  },
  {
   "cell_type": "code",
   "execution_count": 96,
   "id": "39001a8c",
   "metadata": {},
   "outputs": [
    {
     "name": "stdout",
     "output_type": "stream",
     "text": [
      "[[0 1 2 3]\n",
      " [0 1 2 3]]\n"
     ]
    }
   ],
   "source": [
    "partition=np.array([[1,2,3,4],[2,3,4,5]])\n",
    "print(np.argpartition(partition,1))"
   ]
  },
  {
   "cell_type": "code",
   "execution_count": 97,
   "id": "e808acfa",
   "metadata": {},
   "outputs": [
    {
     "name": "stdout",
     "output_type": "stream",
     "text": [
      "[[0 1 2 3]\n",
      " [0 1 2 3]]\n"
     ]
    }
   ],
   "source": [
    "#return the indeces that would sort array\n",
    "argsort=np.array([[1,2,3,4],[2,3,4,5]])\n",
    "print(np.argsort(argsort))"
   ]
  },
  {
   "cell_type": "code",
   "execution_count": 98,
   "id": "eb3ebffa",
   "metadata": {},
   "outputs": [
    {
     "name": "stdout",
     "output_type": "stream",
     "text": [
      "[2 3 4]\n"
     ]
    }
   ],
   "source": [
    "#choose :construct new array from the  given multiple array\n",
    "choice = np.array([1, 2, 3])  # All indices 0-3\n",
    "chose = np.array([1, 2, 3, 4])\n",
    "print(np.choose(choice, chose))"
   ]
  },
  {
   "cell_type": "code",
   "execution_count": 99,
   "id": "57530908",
   "metadata": {},
   "outputs": [
    {
     "name": "stdout",
     "output_type": "stream",
     "text": [
      "[1 1 1 1]\n"
     ]
    }
   ],
   "source": [
    "clp=np.array([2,3,4,5])\n",
    "print(np.clip(clp,0,1))"
   ]
  },
  {
   "cell_type": "code",
   "execution_count": 100,
   "id": "abff8113",
   "metadata": {},
   "outputs": [
    {
     "name": "stdout",
     "output_type": "stream",
     "text": [
      "[[ 3  4  5  7 56]]\n",
      "[[ 3  4  5  7 56]\n",
      " [24 45 45 67  4]]\n",
      "[           3           12           60          420        23520\n",
      "       564480     25401600   1143072000  76585824000 306343296000]\n",
      "[  3   7  12  19  75  99 144 189 256 260]\n",
      "[ 3 45]\n",
      "[24 45 45 67 56]\n",
      "3\n",
      "26.0\n",
      "[ 72 180 225 469 224]\n"
     ]
    }
   ],
   "source": [
    "all_opt=np.array([[3,4,5,7,56],[24,45,45,67,4]])\n",
    "condition=[True,False]\n",
    "print(np.compress(condition,all_opt,axis=0))\n",
    "hlo=np.copy(all_opt)\n",
    "print(hlo)\n",
    "print(np.cumprod(all_opt))\n",
    "print(np.cumsum(all_opt))\n",
    "print(np.diagonal(all_opt,offset=0,axis1=0,axis2=1))\n",
    "print(np.max(all_opt,axis=0))\n",
    "print(np.min(all_opt,axis=(0,1)))\n",
    "print(np.mean(all_opt,dtype=None))\n",
    "print(np.prod(all_opt,axis=0))"
   ]
  },
  {
   "cell_type": "code",
   "execution_count": 101,
   "id": "c82d6516",
   "metadata": {},
   "outputs": [
    {
     "name": "stdout",
     "output_type": "stream",
     "text": [
      "12\n",
      "23\n",
      "43\n",
      "[[12, 23, 34, 45, 56], [21, 32, 43, 54, 34]]\n",
      "b'\\x0c\\x00\\x00\\x00\\x00\\x00\\x00\\x00\\x17\\x00\\x00\\x00\\x00\\x00\\x00\\x00\"\\x00\\x00\\x00\\x00\\x00\\x00\\x00-\\x00\\x00\\x00\\x00\\x00\\x00\\x008\\x00\\x00\\x00\\x00\\x00\\x00\\x00\\x15\\x00\\x00\\x00\\x00\\x00\\x00\\x00 \\x00\\x00\\x00\\x00\\x00\\x00\\x00+\\x00\\x00\\x00\\x00\\x00\\x00\\x006\\x00\\x00\\x00\\x00\\x00\\x00\\x00\"\\x00\\x00\\x00\\x00\\x00\\x00\\x00'\n",
      "12,23,34,45,56,21,32,43,54,34\n",
      "€\u0002cnumpy._core.multiarray\n",
      "_reconstruct\n",
      "q\u0000cnumpy\n",
      "ndarray\n",
      "q\u0001K\u0000…q\u0002c_codecs\n",
      "encode\n",
      "q\u0003X\u0001\u0000\u0000\u0000bq\u0004X\u0006\u0000\u0000\u0000latin1q\u0005†q\u0006Rq\u0007‡Rq\t(K\u0001K\u0002K\u0005†q\n",
      "cnumpy\n",
      "dtype\n",
      "q\u000bX\u0002\u0000\u0000\u0000i8q\f‰ˆ‡q\n",
      "Rq\u000e(K\u0003X\u0001\u0000\u0000\u0000<q\u000fNNNJÿÿÿÿJÿÿÿÿK\u0000tq\u0010b‰h\u0003XP\u0000\u0000\u0000\f\u0000\u0000\u0000\u0000\u0000\u0000\u0000\u0017\u0000\u0000\u0000\u0000\u0000\u0000\u0000\"\u0000\u0000\u0000\u0000\u0000\u0000\u0000-\u0000\u0000\u0000\u0000\u0000\u0000\u00008\u0000\u0000\u0000\u0000\u0000\u0000\u0000\u0015\u0000\u0000\u0000\u0000\u0000\u0000\u0000 \u0000\u0000\u0000\u0000\u0000\u0000\u0000+\u0000\u0000\u0000\u0000\u0000\u0000\u00006\u0000\u0000\u0000\u0000\u0000\u0000\u0000\"\u0000\u0000\u0000\u0000\u0000\u0000\u0000q\u0011h\u0005†q\u0012Rq\u0013tq\u0014b.\n",
      "[[12. 23. 34. 45. 56.]\n",
      " [21. 32. 43. 54. 34.]]\n",
      "[['12' '23' '34' '45' '56']\n",
      " ['21' '32' '43' '54' '34']]\n",
      "[[ 864691128455135232 1657324662872342528 2449958197289549824\n",
      "  3242591731706757120 4035225266123964416]\n",
      " [1513209474796486656 2305843009213693952 3098476543630901248\n",
      "  3891110078048108544 2449958197289549824]]\n",
      "[[12 23 34 45 56]\n",
      " [21 32 43 54 34]]\n",
      "[[12 23 34 45 56]\n",
      " [21 32 43 54 34]]\n",
      "[[34343 34343 34343 34343 34343]\n",
      " [34343 34343 34343 34343 34343]]\n",
      "Reshape\n",
      "[[34343 34343 34343 34343 34343]\n",
      " [34343 34343 34343 34343 34343]]\n"
     ]
    }
   ],
   "source": [
    "#conversion of array\n",
    "conversion=np.array([[12,23,34,45,56],[21,32,43,54,34]])\n",
    "#for the item conversion\n",
    "print(conversion.item(0))\n",
    "print(conversion.item(1))\n",
    "print(conversion.item(1,2))\n",
    "#convert array to list\n",
    "print(conversion.tolist())\n",
    "#convert the array into bytes\n",
    "c_copy=np.copy(conversion)\n",
    "c_byte=c_copy.tobytes()\n",
    "print(c_byte)\n",
    "#convert the array to datafile\n",
    "conversion.tofile('data.txt',sep=\",\")\n",
    "with open (\"data.txt\",'r') as f:\n",
    "    print(f.read())\n",
    "\n",
    "#use the dump to save the array as pickle file\n",
    "conversion.dump(\"hello.pkl\")\n",
    "with open(\"hello.pkl\",'r')as f1:\n",
    "    print(f1.read())\n",
    "#astype convert the array to another datatype\n",
    "print(conversion.astype(float))\n",
    "print(conversion.astype(str))\n",
    "#byteswap used to convert swap the byteorder\n",
    "print(conversion.byteswap())\n",
    "\n",
    "#view - used to return different datatype or object type\n",
    "print(conversion.view())\n",
    "print(conversion.getfield(np.int16))\n",
    "#fill is used to fill the entire array with scaler array\n",
    "conversion.fill(34343)\n",
    "print(conversion)\n",
    "\n",
    "#reshape:reshape the array with same data\n",
    "print(\"Reshape\")\n",
    "conversion.reshape(1,10)\n",
    "print(conversion)\n"
   ]
  },
  {
   "cell_type": "code",
   "execution_count": 102,
   "id": "999447eb",
   "metadata": {},
   "outputs": [
    {
     "name": "stdout",
     "output_type": "stream",
     "text": [
      "Shape of array::\n",
      "[[ 1  6  3  6  8 45 67 23 55 21]]\n",
      "[[ 1  6  3]\n",
      " [ 6  8 45]]\n",
      "transopse\n",
      "[[ 1 45]\n",
      " [ 6 67]\n",
      " [ 3 23]\n",
      " [ 6 55]\n",
      " [ 8 21]]\n",
      "swap axes\n",
      "[[ 1 45]\n",
      " [ 6 67]\n",
      " [ 3 23]\n",
      " [ 6 55]\n",
      " [ 8 21]]\n",
      "flatten example\n",
      "[ 1  6  3  6  8 45 67 23 55 21]\n",
      "[ 1  6  3  6  8 45 67 23 55 21]\n",
      "[[ 1  6  3  6  8]\n",
      " [45 67 23 55 21]]\n"
     ]
    }
   ],
   "source": [
    "shape=np.array([[1,6,3,6,8],[45,67,23,55,21]])\n",
    "print(\"Shape of array::\")\n",
    "print(shape.reshape(1,10))\n",
    "shp=np.copy(shape)\n",
    "print(np.resize(shp,(2,3)))\n",
    "print(\"transopse\")\n",
    "print(shape.transpose())\n",
    "print(\"swap axes\")\n",
    "print(shape.swapaxes(0,1))\n",
    "print(\"flatten example\")\n",
    "print(shape.flatten())\n",
    "print(shape.ravel())\n",
    "print(shape.squeeze())\n"
   ]
  },
  {
   "cell_type": "code",
   "execution_count": 103,
   "id": "f5163696",
   "metadata": {},
   "outputs": [
    {
     "name": "stdout",
     "output_type": "stream",
     "text": [
      "Addition\n",
      "[[5 5 5 5]\n",
      " [7 7 7 7]]\n",
      "[[5 5 5 5]\n",
      " [7 7 7 7]]\n",
      "Subtraction\n",
      "[[-3 -1  1  3]\n",
      " [-3 -1  1  3]]\n",
      "[[-3 -1  1  3]\n",
      " [-3 -1  1  3]]\n",
      "Product of Array\n",
      "[[ 4  6  6  4]\n",
      " [10 12 12 10]]\n",
      "[[ 4  6  6  4]\n",
      " [10 12 12 10]]\n",
      "Division\n",
      "[[0.25       0.66666667 1.5        4.        ]\n",
      " [0.4        0.75       1.33333333 2.5       ]]\n",
      "[[0.25       0.66666667 1.5        4.        ]\n",
      " [0.4        0.75       1.33333333 2.5       ]]\n",
      "Power operation\n",
      "[[ 1  4  9 16]\n",
      " [ 4  9 16 25]]\n",
      "[[ 1  4  9 16]\n",
      " [ 4  9 16 25]]\n",
      "modulus\n",
      "[[1 2 3 0]\n",
      " [2 3 0 1]]\n",
      "[[1 0 1 0]\n",
      " [0 1 0 1]]\n",
      "[[14 16 16 14]\n",
      " [20 22 22 20]]\n",
      "LogaddEmp\n",
      "[[4.04858735 3.31326169 3.31326169 4.04858735]\n",
      " [5.04858735 4.31326169 4.31326169 5.04858735]]\n",
      "LogaddExmp base 2\n",
      "[[4.169925  3.5849625 3.5849625 4.169925 ]\n",
      " [5.169925  4.5849625 4.5849625 5.169925 ]]\n",
      "power wise\n",
      "[[ 1  8  9  4]\n",
      " [32 81 64 25]]\n",
      "True divide\n",
      "[[0.25       0.66666667 1.5        4.        ]\n",
      " [0.4        0.75       1.33333333 2.5       ]]\n",
      "[[0 0 1 4]\n",
      " [0 0 1 2]]\n",
      "Positive\n",
      "[[1 2 3 4]\n",
      " [2 3 4 5]]\n",
      "Negative\n",
      "[[-4 -3 -2 -1]\n",
      " [-5 -4 -3 -2]]\n"
     ]
    }
   ],
   "source": [
    "#universal function in numpy:\n",
    "arr1=np.array([[1,2,3,4],[2,3,4,5]])\n",
    "arr2=np.array([[4,3,2,1],[5,4,3,2]])\n",
    "# <!-- Arithmetic operation -->\n",
    "print(\"Addition\")\n",
    "print(arr1+arr2)\n",
    "print(np.add(arr1,arr2))\n",
    "print(\"Subtraction\")\n",
    "print(np.subtract(arr1,arr2))\n",
    "print(arr1-arr2)\n",
    "print(\"Product of Array\")\n",
    "print(np.multiply(arr1,arr2))\n",
    "# print(np.reshape(4,2).matmul(arr1,arr2))\n",
    "print(arr1*arr2)\n",
    "print(\"Division\")\n",
    "print(np.divide(arr1,arr2))\n",
    "print(arr1/arr2)\n",
    "print(\"Power operation\")\n",
    "print(np.pow(arr1,2))\n",
    "print(arr1**2)\n",
    "print(\"modulus\")\n",
    "print(np.mod(arr1,4))\n",
    "print(arr1%2)\n",
    "print(arr1*arr2+10)\n",
    "print(\"LogaddEmp\")\n",
    "print(np.logaddexp(arr1,arr2))\n",
    "print(\"LogaddExmp base 2\")\n",
    "print(np.logaddexp2(arr1,arr2))\n",
    "print(\"power wise\")\n",
    "print(np.power(arr1,arr2))\n",
    "print(\"True divide\")\n",
    "print(np.true_divide(arr1,arr2))\n",
    "print(np.floor_divide(arr1,arr2))\n",
    "print(\"Positive\")\n",
    "print(np.positive(arr1))\n",
    "print(\"Negative\")\n",
    "print(np.negative(arr2))\n",
    "\n"
   ]
  },
  {
   "cell_type": "code",
   "execution_count": 104,
   "id": "3746897f",
   "metadata": {},
   "outputs": [
    {
     "name": "stdout",
     "output_type": "stream",
     "text": [
      "[0.0000000e+00 1.0000000e+00 1.2246468e-16]\n",
      "[ 1.000000e+00  6.123234e-17 -1.000000e+00]\n",
      "[ 0.00000000e+00  1.63312394e+16 -1.22464680e-16]\n",
      "normal function\n",
      "\n",
      "[[0.99989847 1.99918798 2.9972607  3.99351099 4.98733655]\n",
      " [1.99918798 2.9972607  3.99351099 4.98733655 5.9781395 ]]\n",
      "[[0.01745152 0.03489241 0.05231207 0.06969992 0.08704544]\n",
      " [0.03489241 0.05231207 0.06969992 0.08704544 0.10433822]]\n",
      "[[0.54043046 0.54081481 0.541455   0.54235048 0.54350044]\n",
      " [0.54081481 0.541455   0.54235048 0.54350044 0.54490384]]\n",
      "[[0.01745684 0.03493497 0.05245581 0.07004101 0.08771257]\n",
      " [0.03493497 0.05245581 0.07004101 0.08771257 0.10549298]]\n",
      "value of inverse function\n",
      "\n",
      "[[0.01745329 0.03490659 0.05235988 0.06981317 0.08726646]\n",
      " [0.03490659 0.05235988 0.06981317 0.08726646 0.10471976]]\n",
      "[[0.01745329 0.03490659 0.05235988 0.06981317 0.08726646]\n",
      " [0.03490659 0.05235988 0.06981317 0.08726646 0.10471976]]\n",
      "[[0.01745329 0.03490659 0.05235988 0.06981317 0.08726646]\n",
      " [0.03490659 0.05235988 0.06981317 0.08726646 0.10471976]]\n",
      "Inverse trignometric function \n",
      "\n",
      "[[0.01745329 0.03490658 0.05235985 0.06981306 0.08726613]\n",
      " [0.03490658 0.05235985 0.06981306 0.08726613 0.10471892]]\n",
      "[[1.54290166 1.54236502 1.54147151 1.54022248 1.5386198 ]\n",
      " [1.54236502 1.54147151 1.54022248 1.5386198  1.53666588]]\n",
      "[[0.01745329 0.03490658 0.05235985 0.06981306 0.08726612]\n",
      " [0.03490658 0.05235985 0.06981306 0.08726612 0.10471891]]\n"
     ]
    }
   ],
   "source": [
    "#trignometric function \n",
    "value=np.array([0,np.pi/2,np.pi])\n",
    "print(np.sin(value))\n",
    "print(np.cos(value))\n",
    "print(np.tan(value))\n",
    "\n",
    "\n",
    "#normal function \n",
    "deg=np.array([[1,2,3,4,5],[2,3,4,5,6]])\n",
    "\n",
    "sin_deg=np.sin(np.deg2rad(deg))\n",
    "cons_deg=np.cos(np.deg2rad(deg))\n",
    "tan_deg=np.tan(np.deg2rad(deg))\n",
    "# Normal function \n",
    "print(\"normal function\\n\")\n",
    "sin_dvalue=np.sin(sin_deg)\n",
    "print(np.rad2deg(sin_dvalue))\n",
    "print(np.sin(sin_deg))\n",
    "print(np.cos(cons_deg))\n",
    "print(np.tan(tan_deg))\n",
    "#inversefunction\n",
    "print(\"value of inverse function\\n\")\n",
    "print(np.arcsin(sin_deg))\n",
    "print(np.arccos(cons_deg))\n",
    "print(np.arctan(tan_deg))\n",
    "\n",
    "#inverse trignomertic function\n",
    "print(\"Inverse trignometric function \\n\")\n",
    "print(np.sinh(sin_deg))\n",
    "print(np.cosh(cons_deg))\n",
    "print(np.tanh(tan_deg))\n"
   ]
  },
  {
   "cell_type": "code",
   "execution_count": 111,
   "id": "d98a01ac",
   "metadata": {},
   "outputs": [
    {
     "name": "stdout",
     "output_type": "stream",
     "text": [
      "Bitwise and operation\n",
      "[[ 1  0  1 14]\n",
      " [ 8 20  2 32]]\n",
      "Bitwise or operation\n",
      "[[11 14 15 30]\n",
      " [14 23 62 62]]\n",
      "bitwise not\n",
      "[[ -2  -3  -4 -31]\n",
      " [-11 -21 -31 -41]]\n",
      "shift right\n",
      "[[ 0  0  0  7]\n",
      " [ 2  5  7 10]]\n",
      "left shift\n",
      "[[ -16  -24  -32 -248]\n",
      " [ -88 -168 -248 -328]]\n"
     ]
    }
   ],
   "source": [
    "# Bitwise operation are used to perform the bit level operation\n",
    "a=np.array([[1,2,3,30],[10,20,30,40]])\n",
    "b=np.array([[11,12,13,14],[12,23,34,54]])\n",
    "\n",
    "print(\"Bitwise and operation\")\n",
    "print(np.bitwise_and(a,b))\n",
    "print(\"Bitwise or operation\")\n",
    "print(np.bitwise_or(a,b))\n",
    "print(\"bitwise not\")\n",
    "print(np.bitwise_not(a,b))\n",
    "print(\"shift right\")\n",
    "print(np.right_shift(a,2))\n",
    "print(\"left shift\")\n",
    "print(np.left_shift(b,3))"
   ]
  },
  {
   "cell_type": "code",
   "execution_count": 115,
   "id": "e94a7cd3",
   "metadata": {},
   "outputs": [
    {
     "name": "stdout",
     "output_type": "stream",
     "text": [
      "Greater \n",
      "[[False False False]\n",
      " [ True  True  True]]\n",
      "greater than\n",
      "[[False False False]\n",
      " [ True  True  True]]\n",
      "Less\n",
      "[[ True  True  True]\n",
      " [False False False]]\n",
      "less than \n",
      "[[ True  True  True]\n",
      " [False False False]]\n",
      "Equall\n",
      "[[False False False]\n",
      " [False False False]]\n"
     ]
    }
   ],
   "source": [
    "#comparision function \n",
    "c1=np.array([[1,2,3],[6,5,4]])\n",
    "c2=np.array([[4,5,6],[3,2,1]])\n",
    "print(\"Greater \")\n",
    "print(np.greater(c1,c2))\n",
    "print(\"greater than\")\n",
    "print(np.greater_equal(c1,c2))\n",
    "print(\"Less\")\n",
    "print(np.less(c1,c2))\n",
    "print(\"less than \")\n",
    "print(np.less_equal(c1,c2))\n",
    "print(\"Equall\")\n",
    "print(np.equal(c1,c2))"
   ]
  },
  {
   "cell_type": "code",
   "execution_count": 118,
   "id": "fc9315ba",
   "metadata": {},
   "outputs": [
    {
     "name": "stdout",
     "output_type": "stream",
     "text": [
      "Logical and \n",
      "[ True False]\n",
      "logical or\n",
      "[ True  True]\n",
      "logical xor\n",
      "[False  True]\n",
      "logical cor\n",
      "[ True  True]\n"
     ]
    }
   ],
   "source": [
    "bool_a = np.array([True, False])\n",
    "bool_b = np.array([True, True])\n",
    "\n",
    "print(\"Logical and \")\n",
    "print(np.logical_and(bool_a,bool_b))\n",
    "print(\"logical or\")\n",
    "print(np.logical_or(bool_a,bool_b))\n",
    "print(\"logical xor\")\n",
    "print(np.logical_not(bool_a,bool_b))\n",
    "print(\"logical cor\")\n",
    "print(np.logical_xor(bool_a,bool_b))"
   ]
  }
 ],
 "metadata": {
  "kernelspec": {
   "display_name": "myenv",
   "language": "python",
   "name": "python3"
  },
  "language_info": {
   "codemirror_mode": {
    "name": "ipython",
    "version": 3
   },
   "file_extension": ".py",
   "mimetype": "text/x-python",
   "name": "python",
   "nbconvert_exporter": "python",
   "pygments_lexer": "ipython3",
   "version": "3.12.3"
  }
 },
 "nbformat": 4,
 "nbformat_minor": 5
}
